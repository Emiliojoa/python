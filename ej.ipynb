{
 "cells": [
  {
   "cell_type": "markdown",
   "metadata": {},
   "source": [
    "##Mi primera prueba"
   ]
  },
  {
   "cell_type": "code",
   "execution_count": 8,
   "metadata": {},
   "outputs": [
    {
     "name": "stdout",
     "output_type": "stream",
     "text": [
      "12\n"
     ]
    }
   ],
   "source": [
    "num = 12 \n",
    "print(num)"
   ]
  },
  {
   "cell_type": "code",
   "execution_count": 1,
   "metadata": {},
   "outputs": [
    {
     "name": "stdout",
     "output_type": "stream",
     "text": [
      "240\n"
     ]
    }
   ],
   "source": [
    "num = 12\n",
    "num1=20\n",
    "print(num*num1)"
   ]
  },
  {
   "cell_type": "code",
   "execution_count": 2,
   "metadata": {},
   "outputs": [
    {
     "name": "stdout",
     "output_type": "stream",
     "text": [
      "0\n",
      "25\n",
      "50\n",
      "75\n"
     ]
    }
   ],
   "source": [
    "for i in range(0,100,25):\n",
    "    print(i)"
   ]
  },
  {
   "cell_type": "code",
   "execution_count": 3,
   "metadata": {},
   "outputs": [
    {
     "name": "stdout",
     "output_type": "stream",
     "text": [
      "emilio tiene 19 años\n",
      "joaquin tiene 20 años\n"
     ]
    }
   ],
   "source": [
    "nombre = [\"emilio\", \"joaquin\"]\n",
    "edades = [19, 20]\n",
    "\n",
    "for nombre, edades in zip(nombre, edades):\n",
    "    print(f\"{nombre} tiene {edades} años\")"
   ]
  },
  {
   "cell_type": "code",
   "execution_count": 4,
   "metadata": {},
   "outputs": [],
   "source": [
    "verdadero=True\n",
    "mi_primer_nom=\"Emilio\"\n",
    "mis_apellidos=\"Ortiz Malich\"\n",
    "edad=19"
   ]
  },
  {
   "cell_type": "code",
   "execution_count": 5,
   "metadata": {},
   "outputs": [
    {
     "name": "stdout",
     "output_type": "stream",
     "text": [
      "True\n",
      "soy Emilio Ortiz Malich y tengo 19\n"
     ]
    }
   ],
   "source": [
    "print(verdadero)\n",
    "print(f\"soy {mi_primer_nom} {mis_apellidos} y tengo {edad}\")"
   ]
  },
  {
   "cell_type": "markdown",
   "metadata": {},
   "source": []
  },
  {
   "cell_type": "code",
   "execution_count": 6,
   "metadata": {},
   "outputs": [
    {
     "name": "stdout",
     "output_type": "stream",
     "text": [
      "hola mundo\n"
     ]
    }
   ],
   "source": [
    "print(\"hola mundo\")"
   ]
  },
  {
   "cell_type": "code",
   "execution_count": null,
   "metadata": {},
   "outputs": [
    {
     "ename": "TypeError",
     "evalue": "'<' not supported between instances of 'str' and 'int'",
     "output_type": "error",
     "traceback": [
      "\u001b[31m---------------------------------------------------------------------------\u001b[39m",
      "\u001b[31mTypeError\u001b[39m                                 Traceback (most recent call last)",
      "\u001b[36mCell\u001b[39m\u001b[36m \u001b[39m\u001b[32mIn[13]\u001b[39m\u001b[32m, line 3\u001b[39m\n\u001b[32m      1\u001b[39m boleto =(\u001b[38;5;28minput\u001b[39m(\u001b[33m\"\u001b[39m\u001b[33mingrese la cantidad que posee para pagar el boleto: \u001b[39m\u001b[33m\"\u001b[39m))\n\u001b[32m----> \u001b[39m\u001b[32m3\u001b[39m \u001b[38;5;28;01mif\u001b[39;00m \u001b[43mboleto\u001b[49m\u001b[43m \u001b[49m\u001b[43m<\u001b[49m\u001b[43m \u001b[49m\u001b[32;43m100\u001b[39;49m:\n\u001b[32m      4\u001b[39m     \u001b[38;5;66;03m#print(\"no alcanza\")\u001b[39;00m\n\u001b[32m      5\u001b[39m     \u001b[38;5;28;01mpass\u001b[39;00m\n\u001b[32m      6\u001b[39m \u001b[38;5;28;01melif\u001b[39;00m boleto == \u001b[32m100\u001b[39m:\n",
      "\u001b[31mTypeError\u001b[39m: '<' not supported between instances of 'str' and 'int'"
     ]
    }
   ],
   "source": [
    "boleto =(int(input(\"ingrese la cantidad que posee para pagar el boleto: \")))\n",
    "\n",
    "if boleto < 100:\n",
    "    #print(\"no alcanza\")\n",
    "    pass\n",
    "elif boleto == 100:\n",
    "    print(\"justo alcanza\")\n",
    "else:\n",
    "    print(\"si alcanza\")"
   ]
  }
 ],
 "metadata": {
  "kernelspec": {
   "display_name": "Python 3",
   "language": "python",
   "name": "python3"
  },
  "language_info": {
   "codemirror_mode": {
    "name": "ipython",
    "version": 3
   },
   "file_extension": ".py",
   "mimetype": "text/x-python",
   "name": "python",
   "nbconvert_exporter": "python",
   "pygments_lexer": "ipython3",
   "version": "3.12.9"
  }
 },
 "nbformat": 4,
 "nbformat_minor": 2
}

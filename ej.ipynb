{
 "cells": [
  {
   "cell_type": "markdown",
   "metadata": {},
   "source": [
    "##Mi primera prueba"
   ]
  },
  {
   "cell_type": "code",
   "execution_count": null,
   "metadata": {},
   "outputs": [
    {
     "name": "stdout",
     "output_type": "stream",
     "text": [
      "12\n"
     ]
    }
   ],
   "source": [
    "num = 12 \n",
    "print(num)\n",
    "a= 1\n",
    "b= 2\n",
    "def ejercicio(a,b):\n",
    "    suma=a+b\n",
    "    resta=a-b\n",
    "    multi=a*b\n",
    "\n",
    "\n",
    "    return suma, resta, multi \n",
    "\n",
    "ejercicio()"
   ]
  },
  {
   "cell_type": "code",
   "execution_count": 1,
   "metadata": {},
   "outputs": [
    {
     "name": "stdout",
     "output_type": "stream",
     "text": [
      "240\n"
     ]
    }
   ],
   "source": [
    "num = 12\n",
    "num1=20\n",
    "print(num*num1)"
   ]
  },
  {
   "cell_type": "code",
   "execution_count": 2,
   "metadata": {},
   "outputs": [
    {
     "name": "stdout",
     "output_type": "stream",
     "text": [
      "0\n",
      "25\n",
      "50\n",
      "75\n"
     ]
    }
   ],
   "source": [
    "for i in range(0,100,25):\n",
    "    print(i)"
   ]
  },
  {
   "cell_type": "code",
   "execution_count": 3,
   "metadata": {},
   "outputs": [
    {
     "name": "stdout",
     "output_type": "stream",
     "text": [
      "emilio tiene 19 años\n",
      "joaquin tiene 20 años\n"
     ]
    }
   ],
   "source": [
    "nombre = [\"emilio\", \"joaquin\"]\n",
    "edades = [19, 20]\n",
    "\n",
    "for nombre, edades in zip(nombre, edades):\n",
    "    print(f\"{nombre} tiene {edades} años\")"
   ]
  },
  {
   "cell_type": "code",
   "execution_count": 4,
   "metadata": {},
   "outputs": [],
   "source": [
    "verdadero=True\n",
    "mi_primer_nom=\"Emilio\"\n",
    "mis_apellidos=\"Ortiz Malich\"\n",
    "edad=19"
   ]
  },
  {
   "cell_type": "code",
   "execution_count": 5,
   "metadata": {},
   "outputs": [
    {
     "name": "stdout",
     "output_type": "stream",
     "text": [
      "True\n",
      "soy Emilio Ortiz Malich y tengo 19\n"
     ]
    }
   ],
   "source": [
    "print(verdadero)\n",
    "print(f\"soy {mi_primer_nom} {mis_apellidos} y tengo {edad}\")"
   ]
  },
  {
   "cell_type": "markdown",
   "metadata": {},
   "source": []
  },
  {
   "cell_type": "code",
   "execution_count": 6,
   "metadata": {},
   "outputs": [
    {
     "name": "stdout",
     "output_type": "stream",
     "text": [
      "hola mundo\n"
     ]
    }
   ],
   "source": [
    "print(\"hola mundo\")"
   ]
  },
  {
   "cell_type": "code",
   "execution_count": 14,
   "metadata": {},
   "outputs": [
    {
     "name": "stdout",
     "output_type": "stream",
     "text": [
      "justo alcanza\n"
     ]
    }
   ],
   "source": [
    "boleto =(int(input(\"ingrese la cantidad que posee para pagar el boleto: \")))\n",
    "\n",
    "if boleto < 100:\n",
    "    #print(\"no alcanza\")\n",
    "    pass\n",
    "elif boleto == 100:\n",
    "    print(\"justo alcanza\")\n",
    "else:\n",
    "    print(\"si alcanza\")"
   ]
  },
  {
   "cell_type": "markdown",
   "metadata": {},
   "source": [
    "## Funciones"
   ]
  },
  {
   "cell_type": "code",
   "execution_count": null,
   "metadata": {},
   "outputs": [],
   "source": [
    "def sumar (a,b):\n",
    "    return a+b\n",
    "    resultado=sumar(6+7)\n",
    "\n",
    "print(resultado)\n"
   ]
  },
  {
   "cell_type": "markdown",
   "metadata": {},
   "source": [
    "## Funcion lamba "
   ]
  },
  {
   "cell_type": "code",
   "execution_count": null,
   "metadata": {},
   "outputs": [],
   "source": [
    "multiplodos = lambda x : x %2 ==0\n",
    "##es par"
   ]
  },
  {
   "cell_type": "markdown",
   "metadata": {},
   "source": [
    "## Algunas Funciones"
   ]
  },
  {
   "cell_type": "code",
   "execution_count": null,
   "metadata": {},
   "outputs": [],
   "source": []
  },
  {
   "cell_type": "code",
   "execution_count": null,
   "metadata": {},
   "outputs": [],
   "source": [
    "datos_ramdon=[]\n",
    "\n",
    "name=input(\"ingrese nombre: \")\n",
    "edad=int(input(\"ingrese su edad: \"))\n",
    "\n",
    "if edad > 18:\n",
    "    print(f\"{name} es menor de edad porque tiene {edad}\")\n",
    "    else:\n",
    "        \n",
    "\n"
   ]
  }
 ],
 "metadata": {
  "kernelspec": {
   "display_name": "Python 3 (ipykernel)",
   "language": "python",
   "name": "python3"
  },
  "language_info": {
   "codemirror_mode": {
    "name": "ipython",
    "version": 3
   },
   "file_extension": ".py",
   "mimetype": "text/x-python",
   "name": "python",
   "nbconvert_exporter": "python",
   "pygments_lexer": "ipython3",
   "version": "3.12.1"
  }
 },
 "nbformat": 4,
 "nbformat_minor": 2
}
